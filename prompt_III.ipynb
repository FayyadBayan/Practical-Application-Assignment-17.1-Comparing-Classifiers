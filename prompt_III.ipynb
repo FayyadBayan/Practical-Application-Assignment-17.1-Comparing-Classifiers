{
 "cells": [
  {
   "cell_type": "markdown",
   "metadata": {},
   "source": [
    "<div> <center><h2 style='background-color:DarkBlue;color :silver; border: 2px solid black;border-radius: 50px 20px;'>Practical Application III: Comparing Classifiers</h2></center></div> \n",
    "\n",
    "____\n",
    "**Overview**: In this practical application, your goal is to compare the performance of the classifiers we encountered in this section, namely K Nearest Neighbor, Logistic Regression, Decision Trees, and Support Vector Machines.  We will utilize a dataset related to marketing bank products over the telephone.  \n",
    "\n"
   ]
  },
  {
   "cell_type": "markdown",
   "metadata": {},
   "source": [
    "<div> <center><h2 style='background-color:Black;color :silver; border: 2px solid yellow;border-radius: 50px 20px;'>Getting Started</h2></center></div> \n",
    "\n",
    "Our dataset comes from the UCI Machine Learning repository [link](https://archive.ics.uci.edu/ml/datasets/bank+marketing).  The data is from a Portugese banking institution and is a collection of the results of multiple marketing campaigns.  We will make use of the article accompanying the dataset [here](CRISP-DM-BANK.pdf) for more information on the data and features.\n",
    "\n"
   ]
  },
  {
   "cell_type": "markdown",
   "metadata": {},
   "source": [
    "___\n",
    "> ### Problem 1: Understanding the Data\n",
    "\n",
    "To gain a better understanding of the data, please read the information provided in the UCI link above, and examine the **Materials and Methods** section of the paper.  How many marketing campaigns does this data represent?"
   ]
  },
  {
   "cell_type": "code",
   "execution_count": null,
   "metadata": {},
   "outputs": [],
   "source": [
    "\"\"\" \n",
    "According to the available information:\n",
    "\n",
    "Number of Marketing Campaigns: 17 different marketing campaigns were \n",
    "implemented during the period from May 2008 to November 2010. The data in \n",
    "the dataset represents customer interactions across these campaigns.\n",
    "\n",
    "\"\"\""
   ]
  },
  {
   "cell_type": "markdown",
   "metadata": {},
   "source": [
    "___\n",
    "> ### Problem 2: Read in the Data\n",
    "\n",
    "Use pandas to read in the dataset `bank-additional-full.csv` and assign to a meaningful variable name."
   ]
  },
  {
   "cell_type": "code",
   "execution_count": 1,
   "metadata": {},
   "outputs": [],
   "source": [
    "import pandas as pd\n",
    "\n",
    "import numpy as np\n",
    "\n",
    "import seaborn as sns\n",
    "\n",
    "import matplotlib.pyplot as plt\n",
    "\n",
    "from sklearn.model_selection import train_test_split , GridSearchCV , RandomizedSearchCV\n",
    "\n",
    "from sklearn.preprocessing import StandardScaler\n",
    "\n",
    "from sklearn.neighbors import KNeighborsClassifier\n",
    "\n",
    "from sklearn.linear_model import LogisticRegression\n",
    "\n",
    "from sklearn.tree import DecisionTreeClassifier\n",
    "\n",
    "from sklearn.svm import SVC\n",
    "\n",
    "from sklearn.metrics import classification_report, accuracy_score, roc_auc_score, confusion_matrix, ConfusionMatrixDisplay\n",
    "\n",
    "from sklearn.metrics import roc_curve, auc\n",
    "\n",
    "import time\n",
    "\n",
    "from scipy.stats import uniform\n"
   ]
  },
  {
   "cell_type": "code",
   "execution_count": 2,
   "metadata": {},
   "outputs": [],
   "source": [
    "data = pd.read_csv('data/bank-additional-full.csv', sep = ';')"
   ]
  },
  {
   "cell_type": "code",
   "execution_count": 3,
   "metadata": {},
   "outputs": [
    {
     "data": {
      "text/html": [
       "<div>\n",
       "<style scoped>\n",
       "    .dataframe tbody tr th:only-of-type {\n",
       "        vertical-align: middle;\n",
       "    }\n",
       "\n",
       "    .dataframe tbody tr th {\n",
       "        vertical-align: top;\n",
       "    }\n",
       "\n",
       "    .dataframe thead th {\n",
       "        text-align: right;\n",
       "    }\n",
       "</style>\n",
       "<table border=\"1\" class=\"dataframe\">\n",
       "  <thead>\n",
       "    <tr style=\"text-align: right;\">\n",
       "      <th></th>\n",
       "      <th>age</th>\n",
       "      <th>job</th>\n",
       "      <th>marital</th>\n",
       "      <th>education</th>\n",
       "      <th>default</th>\n",
       "      <th>housing</th>\n",
       "      <th>loan</th>\n",
       "      <th>contact</th>\n",
       "      <th>month</th>\n",
       "      <th>day_of_week</th>\n",
       "      <th>...</th>\n",
       "      <th>campaign</th>\n",
       "      <th>pdays</th>\n",
       "      <th>previous</th>\n",
       "      <th>poutcome</th>\n",
       "      <th>emp.var.rate</th>\n",
       "      <th>cons.price.idx</th>\n",
       "      <th>cons.conf.idx</th>\n",
       "      <th>euribor3m</th>\n",
       "      <th>nr.employed</th>\n",
       "      <th>y</th>\n",
       "    </tr>\n",
       "  </thead>\n",
       "  <tbody>\n",
       "    <tr>\n",
       "      <th>0</th>\n",
       "      <td>56</td>\n",
       "      <td>housemaid</td>\n",
       "      <td>married</td>\n",
       "      <td>basic.4y</td>\n",
       "      <td>no</td>\n",
       "      <td>no</td>\n",
       "      <td>no</td>\n",
       "      <td>telephone</td>\n",
       "      <td>may</td>\n",
       "      <td>mon</td>\n",
       "      <td>...</td>\n",
       "      <td>1</td>\n",
       "      <td>999</td>\n",
       "      <td>0</td>\n",
       "      <td>nonexistent</td>\n",
       "      <td>1.1</td>\n",
       "      <td>93.994</td>\n",
       "      <td>-36.4</td>\n",
       "      <td>4.857</td>\n",
       "      <td>5191.0</td>\n",
       "      <td>no</td>\n",
       "    </tr>\n",
       "    <tr>\n",
       "      <th>1</th>\n",
       "      <td>57</td>\n",
       "      <td>services</td>\n",
       "      <td>married</td>\n",
       "      <td>high.school</td>\n",
       "      <td>unknown</td>\n",
       "      <td>no</td>\n",
       "      <td>no</td>\n",
       "      <td>telephone</td>\n",
       "      <td>may</td>\n",
       "      <td>mon</td>\n",
       "      <td>...</td>\n",
       "      <td>1</td>\n",
       "      <td>999</td>\n",
       "      <td>0</td>\n",
       "      <td>nonexistent</td>\n",
       "      <td>1.1</td>\n",
       "      <td>93.994</td>\n",
       "      <td>-36.4</td>\n",
       "      <td>4.857</td>\n",
       "      <td>5191.0</td>\n",
       "      <td>no</td>\n",
       "    </tr>\n",
       "    <tr>\n",
       "      <th>2</th>\n",
       "      <td>37</td>\n",
       "      <td>services</td>\n",
       "      <td>married</td>\n",
       "      <td>high.school</td>\n",
       "      <td>no</td>\n",
       "      <td>yes</td>\n",
       "      <td>no</td>\n",
       "      <td>telephone</td>\n",
       "      <td>may</td>\n",
       "      <td>mon</td>\n",
       "      <td>...</td>\n",
       "      <td>1</td>\n",
       "      <td>999</td>\n",
       "      <td>0</td>\n",
       "      <td>nonexistent</td>\n",
       "      <td>1.1</td>\n",
       "      <td>93.994</td>\n",
       "      <td>-36.4</td>\n",
       "      <td>4.857</td>\n",
       "      <td>5191.0</td>\n",
       "      <td>no</td>\n",
       "    </tr>\n",
       "    <tr>\n",
       "      <th>3</th>\n",
       "      <td>40</td>\n",
       "      <td>admin.</td>\n",
       "      <td>married</td>\n",
       "      <td>basic.6y</td>\n",
       "      <td>no</td>\n",
       "      <td>no</td>\n",
       "      <td>no</td>\n",
       "      <td>telephone</td>\n",
       "      <td>may</td>\n",
       "      <td>mon</td>\n",
       "      <td>...</td>\n",
       "      <td>1</td>\n",
       "      <td>999</td>\n",
       "      <td>0</td>\n",
       "      <td>nonexistent</td>\n",
       "      <td>1.1</td>\n",
       "      <td>93.994</td>\n",
       "      <td>-36.4</td>\n",
       "      <td>4.857</td>\n",
       "      <td>5191.0</td>\n",
       "      <td>no</td>\n",
       "    </tr>\n",
       "    <tr>\n",
       "      <th>4</th>\n",
       "      <td>56</td>\n",
       "      <td>services</td>\n",
       "      <td>married</td>\n",
       "      <td>high.school</td>\n",
       "      <td>no</td>\n",
       "      <td>no</td>\n",
       "      <td>yes</td>\n",
       "      <td>telephone</td>\n",
       "      <td>may</td>\n",
       "      <td>mon</td>\n",
       "      <td>...</td>\n",
       "      <td>1</td>\n",
       "      <td>999</td>\n",
       "      <td>0</td>\n",
       "      <td>nonexistent</td>\n",
       "      <td>1.1</td>\n",
       "      <td>93.994</td>\n",
       "      <td>-36.4</td>\n",
       "      <td>4.857</td>\n",
       "      <td>5191.0</td>\n",
       "      <td>no</td>\n",
       "    </tr>\n",
       "  </tbody>\n",
       "</table>\n",
       "<p>5 rows × 21 columns</p>\n",
       "</div>"
      ],
      "text/plain": [
       "   age        job  marital    education  default housing loan    contact  \\\n",
       "0   56  housemaid  married     basic.4y       no      no   no  telephone   \n",
       "1   57   services  married  high.school  unknown      no   no  telephone   \n",
       "2   37   services  married  high.school       no     yes   no  telephone   \n",
       "3   40     admin.  married     basic.6y       no      no   no  telephone   \n",
       "4   56   services  married  high.school       no      no  yes  telephone   \n",
       "\n",
       "  month day_of_week  ...  campaign  pdays  previous     poutcome emp.var.rate  \\\n",
       "0   may         mon  ...         1    999         0  nonexistent          1.1   \n",
       "1   may         mon  ...         1    999         0  nonexistent          1.1   \n",
       "2   may         mon  ...         1    999         0  nonexistent          1.1   \n",
       "3   may         mon  ...         1    999         0  nonexistent          1.1   \n",
       "4   may         mon  ...         1    999         0  nonexistent          1.1   \n",
       "\n",
       "   cons.price.idx  cons.conf.idx  euribor3m  nr.employed   y  \n",
       "0          93.994          -36.4      4.857       5191.0  no  \n",
       "1          93.994          -36.4      4.857       5191.0  no  \n",
       "2          93.994          -36.4      4.857       5191.0  no  \n",
       "3          93.994          -36.4      4.857       5191.0  no  \n",
       "4          93.994          -36.4      4.857       5191.0  no  \n",
       "\n",
       "[5 rows x 21 columns]"
      ]
     },
     "execution_count": 3,
     "metadata": {},
     "output_type": "execute_result"
    }
   ],
   "source": [
    "data.head()"
   ]
  },
  {
   "cell_type": "code",
   "execution_count": 7,
   "metadata": {},
   "outputs": [
    {
     "data": {
      "text/plain": [
       "age               0\n",
       "job               0\n",
       "marital           0\n",
       "education         0\n",
       "default           0\n",
       "housing           0\n",
       "loan              0\n",
       "contact           0\n",
       "month             0\n",
       "day_of_week       0\n",
       "duration          0\n",
       "campaign          0\n",
       "pdays             0\n",
       "previous          0\n",
       "poutcome          0\n",
       "emp.var.rate      0\n",
       "cons.price.idx    0\n",
       "cons.conf.idx     0\n",
       "euribor3m         0\n",
       "nr.employed       0\n",
       "y                 0\n",
       "dtype: int64"
      ]
     },
     "execution_count": 7,
     "metadata": {},
     "output_type": "execute_result"
    }
   ],
   "source": [
    "data.isnull().sum()"
   ]
  },
  {
   "cell_type": "code",
   "execution_count": 10,
   "metadata": {},
   "outputs": [
    {
     "data": {
      "text/html": [
       "<div>\n",
       "<style scoped>\n",
       "    .dataframe tbody tr th:only-of-type {\n",
       "        vertical-align: middle;\n",
       "    }\n",
       "\n",
       "    .dataframe tbody tr th {\n",
       "        vertical-align: top;\n",
       "    }\n",
       "\n",
       "    .dataframe thead th {\n",
       "        text-align: right;\n",
       "    }\n",
       "</style>\n",
       "<table border=\"1\" class=\"dataframe\">\n",
       "  <thead>\n",
       "    <tr style=\"text-align: right;\">\n",
       "      <th></th>\n",
       "      <th>age</th>\n",
       "      <th>duration</th>\n",
       "      <th>campaign</th>\n",
       "      <th>pdays</th>\n",
       "      <th>previous</th>\n",
       "      <th>emp.var.rate</th>\n",
       "      <th>cons.price.idx</th>\n",
       "      <th>cons.conf.idx</th>\n",
       "      <th>euribor3m</th>\n",
       "      <th>nr.employed</th>\n",
       "    </tr>\n",
       "  </thead>\n",
       "  <tbody>\n",
       "    <tr>\n",
       "      <th>count</th>\n",
       "      <td>41188.00000</td>\n",
       "      <td>41188.000000</td>\n",
       "      <td>41188.000000</td>\n",
       "      <td>41188.000000</td>\n",
       "      <td>41188.000000</td>\n",
       "      <td>41188.000000</td>\n",
       "      <td>41188.000000</td>\n",
       "      <td>41188.000000</td>\n",
       "      <td>41188.000000</td>\n",
       "      <td>41188.000000</td>\n",
       "    </tr>\n",
       "    <tr>\n",
       "      <th>mean</th>\n",
       "      <td>40.02406</td>\n",
       "      <td>258.285010</td>\n",
       "      <td>2.567593</td>\n",
       "      <td>962.475454</td>\n",
       "      <td>0.172963</td>\n",
       "      <td>0.081886</td>\n",
       "      <td>93.575664</td>\n",
       "      <td>-40.502600</td>\n",
       "      <td>3.621291</td>\n",
       "      <td>5167.035911</td>\n",
       "    </tr>\n",
       "    <tr>\n",
       "      <th>std</th>\n",
       "      <td>10.42125</td>\n",
       "      <td>259.279249</td>\n",
       "      <td>2.770014</td>\n",
       "      <td>186.910907</td>\n",
       "      <td>0.494901</td>\n",
       "      <td>1.570960</td>\n",
       "      <td>0.578840</td>\n",
       "      <td>4.628198</td>\n",
       "      <td>1.734447</td>\n",
       "      <td>72.251528</td>\n",
       "    </tr>\n",
       "    <tr>\n",
       "      <th>min</th>\n",
       "      <td>17.00000</td>\n",
       "      <td>0.000000</td>\n",
       "      <td>1.000000</td>\n",
       "      <td>0.000000</td>\n",
       "      <td>0.000000</td>\n",
       "      <td>-3.400000</td>\n",
       "      <td>92.201000</td>\n",
       "      <td>-50.800000</td>\n",
       "      <td>0.634000</td>\n",
       "      <td>4963.600000</td>\n",
       "    </tr>\n",
       "    <tr>\n",
       "      <th>25%</th>\n",
       "      <td>32.00000</td>\n",
       "      <td>102.000000</td>\n",
       "      <td>1.000000</td>\n",
       "      <td>999.000000</td>\n",
       "      <td>0.000000</td>\n",
       "      <td>-1.800000</td>\n",
       "      <td>93.075000</td>\n",
       "      <td>-42.700000</td>\n",
       "      <td>1.344000</td>\n",
       "      <td>5099.100000</td>\n",
       "    </tr>\n",
       "    <tr>\n",
       "      <th>50%</th>\n",
       "      <td>38.00000</td>\n",
       "      <td>180.000000</td>\n",
       "      <td>2.000000</td>\n",
       "      <td>999.000000</td>\n",
       "      <td>0.000000</td>\n",
       "      <td>1.100000</td>\n",
       "      <td>93.749000</td>\n",
       "      <td>-41.800000</td>\n",
       "      <td>4.857000</td>\n",
       "      <td>5191.000000</td>\n",
       "    </tr>\n",
       "    <tr>\n",
       "      <th>75%</th>\n",
       "      <td>47.00000</td>\n",
       "      <td>319.000000</td>\n",
       "      <td>3.000000</td>\n",
       "      <td>999.000000</td>\n",
       "      <td>0.000000</td>\n",
       "      <td>1.400000</td>\n",
       "      <td>93.994000</td>\n",
       "      <td>-36.400000</td>\n",
       "      <td>4.961000</td>\n",
       "      <td>5228.100000</td>\n",
       "    </tr>\n",
       "    <tr>\n",
       "      <th>max</th>\n",
       "      <td>98.00000</td>\n",
       "      <td>4918.000000</td>\n",
       "      <td>56.000000</td>\n",
       "      <td>999.000000</td>\n",
       "      <td>7.000000</td>\n",
       "      <td>1.400000</td>\n",
       "      <td>94.767000</td>\n",
       "      <td>-26.900000</td>\n",
       "      <td>5.045000</td>\n",
       "      <td>5228.100000</td>\n",
       "    </tr>\n",
       "  </tbody>\n",
       "</table>\n",
       "</div>"
      ],
      "text/plain": [
       "               age      duration      campaign         pdays      previous  \\\n",
       "count  41188.00000  41188.000000  41188.000000  41188.000000  41188.000000   \n",
       "mean      40.02406    258.285010      2.567593    962.475454      0.172963   \n",
       "std       10.42125    259.279249      2.770014    186.910907      0.494901   \n",
       "min       17.00000      0.000000      1.000000      0.000000      0.000000   \n",
       "25%       32.00000    102.000000      1.000000    999.000000      0.000000   \n",
       "50%       38.00000    180.000000      2.000000    999.000000      0.000000   \n",
       "75%       47.00000    319.000000      3.000000    999.000000      0.000000   \n",
       "max       98.00000   4918.000000     56.000000    999.000000      7.000000   \n",
       "\n",
       "       emp.var.rate  cons.price.idx  cons.conf.idx     euribor3m   nr.employed  \n",
       "count  41188.000000    41188.000000   41188.000000  41188.000000  41188.000000  \n",
       "mean       0.081886       93.575664     -40.502600      3.621291   5167.035911  \n",
       "std        1.570960        0.578840       4.628198      1.734447     72.251528  \n",
       "min       -3.400000       92.201000     -50.800000      0.634000   4963.600000  \n",
       "25%       -1.800000       93.075000     -42.700000      1.344000   5099.100000  \n",
       "50%        1.100000       93.749000     -41.800000      4.857000   5191.000000  \n",
       "75%        1.400000       93.994000     -36.400000      4.961000   5228.100000  \n",
       "max        1.400000       94.767000     -26.900000      5.045000   5228.100000  "
      ]
     },
     "execution_count": 10,
     "metadata": {},
     "output_type": "execute_result"
    }
   ],
   "source": [
    "data.describe()"
   ]
  },
  {
   "cell_type": "markdown",
   "metadata": {},
   "source": [
    "___\n",
    "> ### Problem 3: Understanding the Features\n",
    "\n",
    "\n",
    "Examine the data description below, and determine if any of the features are missing values or need to be coerced to a different data type.\n",
    "\n",
    "\n",
    "```\n",
    "Input variables:\n",
    "# bank client data:\n",
    "1 - age (numeric)\n",
    "2 - job : type of job (categorical: 'admin.','blue-collar','entrepreneur','housemaid','management','retired','self-employed','services','student','technician','unemployed','unknown')\n",
    "3 - marital : marital status (categorical: 'divorced','married','single','unknown'; note: 'divorced' means divorced or widowed)\n",
    "4 - education (categorical: 'basic.4y','basic.6y','basic.9y','high.school','illiterate','professional.course','university.degree','unknown')\n",
    "5 - default: has credit in default? (categorical: 'no','yes','unknown')\n",
    "6 - housing: has housing loan? (categorical: 'no','yes','unknown')\n",
    "7 - loan: has personal loan? (categorical: 'no','yes','unknown')\n",
    "# related with the last contact of the current campaign:\n",
    "8 - contact: contact communication type (categorical: 'cellular','telephone')\n",
    "9 - month: last contact month of year (categorical: 'jan', 'feb', 'mar', ..., 'nov', 'dec')\n",
    "10 - day_of_week: last contact day of the week (categorical: 'mon','tue','wed','thu','fri')\n",
    "11 - duration: last contact duration, in seconds (numeric). Important note: this attribute highly affects the output target (e.g., if duration=0 then y='no'). Yet, the duration is not known before a call is performed. Also, after the end of the call y is obviously known. Thus, this input should only be included for benchmark purposes and should be discarded if the intention is to have a realistic predictive model.\n",
    "# other attributes:\n",
    "12 - campaign: number of contacts performed during this campaign and for this client (numeric, includes last contact)\n",
    "13 - pdays: number of days that passed by after the client was last contacted from a previous campaign (numeric; 999 means client was not previously contacted)\n",
    "14 - previous: number of contacts performed before this campaign and for this client (numeric)\n",
    "15 - poutcome: outcome of the previous marketing campaign (categorical: 'failure','nonexistent','success')\n",
    "# social and economic context attributes\n",
    "16 - emp.var.rate: employment variation rate - quarterly indicator (numeric)\n",
    "17 - cons.price.idx: consumer price index - monthly indicator (numeric)\n",
    "18 - cons.conf.idx: consumer confidence index - monthly indicator (numeric)\n",
    "19 - euribor3m: euribor 3 month rate - daily indicator (numeric)\n",
    "20 - nr.employed: number of employees - quarterly indicator (numeric)\n",
    "\n",
    "Output variable (desired target):\n",
    "21 - y - has the client subscribed a term deposit? (binary: 'yes','no')\n",
    "```\n",
    "\n"
   ]
  },
  {
   "cell_type": "code",
   "execution_count": null,
   "metadata": {},
   "outputs": [],
   "source": []
  },
  {
   "cell_type": "markdown",
   "metadata": {},
   "source": [
    "___\n",
    "> ### Problem 4: Understanding the Task\n",
    "\n",
    "After examining the description and data, your goal now is to clearly state the *Business Objective* of the task.  State the objective below."
   ]
  },
  {
   "cell_type": "code",
   "execution_count": 11,
   "metadata": {},
   "outputs": [
    {
     "name": "stdout",
     "output_type": "stream",
     "text": [
      "<class 'pandas.core.frame.DataFrame'>\n",
      "RangeIndex: 41188 entries, 0 to 41187\n",
      "Data columns (total 21 columns):\n",
      " #   Column          Non-Null Count  Dtype  \n",
      "---  ------          --------------  -----  \n",
      " 0   age             41188 non-null  int64  \n",
      " 1   job             41188 non-null  object \n",
      " 2   marital         41188 non-null  object \n",
      " 3   education       41188 non-null  object \n",
      " 4   default         41188 non-null  object \n",
      " 5   housing         41188 non-null  object \n",
      " 6   loan            41188 non-null  object \n",
      " 7   contact         41188 non-null  object \n",
      " 8   month           41188 non-null  object \n",
      " 9   day_of_week     41188 non-null  object \n",
      " 10  duration        41188 non-null  int64  \n",
      " 11  campaign        41188 non-null  int64  \n",
      " 12  pdays           41188 non-null  int64  \n",
      " 13  previous        41188 non-null  int64  \n",
      " 14  poutcome        41188 non-null  object \n",
      " 15  emp.var.rate    41188 non-null  float64\n",
      " 16  cons.price.idx  41188 non-null  float64\n",
      " 17  cons.conf.idx   41188 non-null  float64\n",
      " 18  euribor3m       41188 non-null  float64\n",
      " 19  nr.employed     41188 non-null  float64\n",
      " 20  y               41188 non-null  object \n",
      "dtypes: float64(5), int64(5), object(11)\n",
      "memory usage: 6.6+ MB\n"
     ]
    }
   ],
   "source": [
    "data.info()"
   ]
  },
  {
   "cell_type": "code",
   "execution_count": 12,
   "metadata": {},
   "outputs": [
    {
     "data": {
      "text/plain": [
       "y\n",
       "no     36548\n",
       "yes     4640\n",
       "Name: count, dtype: int64"
      ]
     },
     "execution_count": 12,
     "metadata": {},
     "output_type": "execute_result"
    }
   ],
   "source": [
    "data['y'].value_counts() "
   ]
  },
  {
   "cell_type": "markdown",
   "metadata": {},
   "source": [
    "___\n",
    "> ### Problem 5: Engineering Features\n",
    "\n",
    "Now that you understand your business objective, we will build a basic model to get started.  Before we can do this, we must work to encode the data.  Using just the bank information features, prepare the features and target column for modeling with appropriate encoding and transformations."
   ]
  },
  {
   "cell_type": "code",
   "execution_count": 13,
   "metadata": {},
   "outputs": [],
   "source": [
    "# One-Hot Encoding\n",
    "data_encoded = pd.get_dummies(data, columns=['job', 'marital', 'education', 'contact', 'month', 'poutcome'])\n",
    "\n",
    "data_encoded['default'] = data_encoded['default'].map({'yes': 1, 'no': 0})\n",
    "data_encoded['housing'] = data_encoded['housing'].map({'yes': 1, 'no': 0})\n",
    "data_encoded['loan'] = data_encoded['loan'].map({'yes': 1, 'no': 0})\n",
    "data_encoded['y'] = data_encoded['y'].map({'yes': 1, 'no': 0})\n",
    "\n"
   ]
  },
  {
   "cell_type": "code",
   "execution_count": 18,
   "metadata": {},
   "outputs": [
    {
     "data": {
      "text/html": [
       "<div>\n",
       "<style scoped>\n",
       "    .dataframe tbody tr th:only-of-type {\n",
       "        vertical-align: middle;\n",
       "    }\n",
       "\n",
       "    .dataframe tbody tr th {\n",
       "        vertical-align: top;\n",
       "    }\n",
       "\n",
       "    .dataframe thead th {\n",
       "        text-align: right;\n",
       "    }\n",
       "</style>\n",
       "<table border=\"1\" class=\"dataframe\">\n",
       "  <thead>\n",
       "    <tr style=\"text-align: right;\">\n",
       "      <th></th>\n",
       "      <th>age</th>\n",
       "      <th>default</th>\n",
       "      <th>housing</th>\n",
       "      <th>loan</th>\n",
       "      <th>day_of_week</th>\n",
       "      <th>duration</th>\n",
       "      <th>campaign</th>\n",
       "      <th>pdays</th>\n",
       "      <th>previous</th>\n",
       "      <th>emp.var.rate</th>\n",
       "      <th>...</th>\n",
       "      <th>month_jul</th>\n",
       "      <th>month_jun</th>\n",
       "      <th>month_mar</th>\n",
       "      <th>month_may</th>\n",
       "      <th>month_nov</th>\n",
       "      <th>month_oct</th>\n",
       "      <th>month_sep</th>\n",
       "      <th>poutcome_failure</th>\n",
       "      <th>poutcome_nonexistent</th>\n",
       "      <th>poutcome_success</th>\n",
       "    </tr>\n",
       "  </thead>\n",
       "  <tbody>\n",
       "    <tr>\n",
       "      <th>0</th>\n",
       "      <td>56</td>\n",
       "      <td>0.0</td>\n",
       "      <td>0.0</td>\n",
       "      <td>0.0</td>\n",
       "      <td>mon</td>\n",
       "      <td>261</td>\n",
       "      <td>1</td>\n",
       "      <td>999</td>\n",
       "      <td>0</td>\n",
       "      <td>1.1</td>\n",
       "      <td>...</td>\n",
       "      <td>False</td>\n",
       "      <td>False</td>\n",
       "      <td>False</td>\n",
       "      <td>True</td>\n",
       "      <td>False</td>\n",
       "      <td>False</td>\n",
       "      <td>False</td>\n",
       "      <td>False</td>\n",
       "      <td>True</td>\n",
       "      <td>False</td>\n",
       "    </tr>\n",
       "    <tr>\n",
       "      <th>1</th>\n",
       "      <td>57</td>\n",
       "      <td>NaN</td>\n",
       "      <td>0.0</td>\n",
       "      <td>0.0</td>\n",
       "      <td>mon</td>\n",
       "      <td>149</td>\n",
       "      <td>1</td>\n",
       "      <td>999</td>\n",
       "      <td>0</td>\n",
       "      <td>1.1</td>\n",
       "      <td>...</td>\n",
       "      <td>False</td>\n",
       "      <td>False</td>\n",
       "      <td>False</td>\n",
       "      <td>True</td>\n",
       "      <td>False</td>\n",
       "      <td>False</td>\n",
       "      <td>False</td>\n",
       "      <td>False</td>\n",
       "      <td>True</td>\n",
       "      <td>False</td>\n",
       "    </tr>\n",
       "    <tr>\n",
       "      <th>2</th>\n",
       "      <td>37</td>\n",
       "      <td>0.0</td>\n",
       "      <td>1.0</td>\n",
       "      <td>0.0</td>\n",
       "      <td>mon</td>\n",
       "      <td>226</td>\n",
       "      <td>1</td>\n",
       "      <td>999</td>\n",
       "      <td>0</td>\n",
       "      <td>1.1</td>\n",
       "      <td>...</td>\n",
       "      <td>False</td>\n",
       "      <td>False</td>\n",
       "      <td>False</td>\n",
       "      <td>True</td>\n",
       "      <td>False</td>\n",
       "      <td>False</td>\n",
       "      <td>False</td>\n",
       "      <td>False</td>\n",
       "      <td>True</td>\n",
       "      <td>False</td>\n",
       "    </tr>\n",
       "    <tr>\n",
       "      <th>3</th>\n",
       "      <td>40</td>\n",
       "      <td>0.0</td>\n",
       "      <td>0.0</td>\n",
       "      <td>0.0</td>\n",
       "      <td>mon</td>\n",
       "      <td>151</td>\n",
       "      <td>1</td>\n",
       "      <td>999</td>\n",
       "      <td>0</td>\n",
       "      <td>1.1</td>\n",
       "      <td>...</td>\n",
       "      <td>False</td>\n",
       "      <td>False</td>\n",
       "      <td>False</td>\n",
       "      <td>True</td>\n",
       "      <td>False</td>\n",
       "      <td>False</td>\n",
       "      <td>False</td>\n",
       "      <td>False</td>\n",
       "      <td>True</td>\n",
       "      <td>False</td>\n",
       "    </tr>\n",
       "    <tr>\n",
       "      <th>4</th>\n",
       "      <td>56</td>\n",
       "      <td>0.0</td>\n",
       "      <td>0.0</td>\n",
       "      <td>1.0</td>\n",
       "      <td>mon</td>\n",
       "      <td>307</td>\n",
       "      <td>1</td>\n",
       "      <td>999</td>\n",
       "      <td>0</td>\n",
       "      <td>1.1</td>\n",
       "      <td>...</td>\n",
       "      <td>False</td>\n",
       "      <td>False</td>\n",
       "      <td>False</td>\n",
       "      <td>True</td>\n",
       "      <td>False</td>\n",
       "      <td>False</td>\n",
       "      <td>False</td>\n",
       "      <td>False</td>\n",
       "      <td>True</td>\n",
       "      <td>False</td>\n",
       "    </tr>\n",
       "  </tbody>\n",
       "</table>\n",
       "<p>5 rows × 54 columns</p>\n",
       "</div>"
      ],
      "text/plain": [
       "   age  default  housing  loan day_of_week  duration  campaign  pdays  \\\n",
       "0   56      0.0      0.0   0.0         mon       261         1    999   \n",
       "1   57      NaN      0.0   0.0         mon       149         1    999   \n",
       "2   37      0.0      1.0   0.0         mon       226         1    999   \n",
       "3   40      0.0      0.0   0.0         mon       151         1    999   \n",
       "4   56      0.0      0.0   1.0         mon       307         1    999   \n",
       "\n",
       "   previous  emp.var.rate  ...  month_jul  month_jun  month_mar  month_may  \\\n",
       "0         0           1.1  ...      False      False      False       True   \n",
       "1         0           1.1  ...      False      False      False       True   \n",
       "2         0           1.1  ...      False      False      False       True   \n",
       "3         0           1.1  ...      False      False      False       True   \n",
       "4         0           1.1  ...      False      False      False       True   \n",
       "\n",
       "   month_nov  month_oct  month_sep  poutcome_failure  poutcome_nonexistent  \\\n",
       "0      False      False      False             False                  True   \n",
       "1      False      False      False             False                  True   \n",
       "2      False      False      False             False                  True   \n",
       "3      False      False      False             False                  True   \n",
       "4      False      False      False             False                  True   \n",
       "\n",
       "   poutcome_success  \n",
       "0             False  \n",
       "1             False  \n",
       "2             False  \n",
       "3             False  \n",
       "4             False  \n",
       "\n",
       "[5 rows x 54 columns]"
      ]
     },
     "execution_count": 18,
     "metadata": {},
     "output_type": "execute_result"
    }
   ],
   "source": [
    "data_encoded.head()\n"
   ]
  },
  {
   "cell_type": "markdown",
   "metadata": {},
   "source": [
    "___\n",
    "> ### Problem 6: Train/Test Split\n",
    "\n",
    "With your data prepared, split it into a train and test set."
   ]
  },
  {
   "cell_type": "code",
   "execution_count": 7,
   "metadata": {},
   "outputs": [
    {
     "data": {
      "text/plain": [
       "<bound method Series.dropna of 0        0\n",
       "1        0\n",
       "2        0\n",
       "3        0\n",
       "4        0\n",
       "        ..\n",
       "41183    1\n",
       "41184    0\n",
       "41185    0\n",
       "41186    1\n",
       "41187    0\n",
       "Name: y, Length: 41188, dtype: int64>"
      ]
     },
     "execution_count": 7,
     "metadata": {},
     "output_type": "execute_result"
    }
   ],
   "source": [
    "X = data_encoded.drop(columns=['y' , 'day_of_week'], axis=1)\n",
    "y = data_encoded['y']\n",
    "\n",
    "X.dropna\n",
    "y.dropna\n",
    "#"
   ]
  },
  {
   "cell_type": "code",
   "execution_count": 8,
   "metadata": {},
   "outputs": [],
   "source": [
    "X_train, X_test, y_train, y_test = train_test_split(X, y, test_size=0.3, random_state=42)"
   ]
  },
  {
   "cell_type": "code",
   "execution_count": 9,
   "metadata": {},
   "outputs": [],
   "source": [
    "# X_train.info()"
   ]
  },
  {
   "cell_type": "code",
   "execution_count": 10,
   "metadata": {},
   "outputs": [
    {
     "name": "stdout",
     "output_type": "stream",
     "text": [
      "Training data size: (28831, 52)\n",
      "Test data size: (12357, 52)\n"
     ]
    }
   ],
   "source": [
    "print(f\"Training data size: {X_train.shape}\")\n",
    "print(f\"Test data size: {X_test.shape}\")"
   ]
  },
  {
   "cell_type": "code",
   "execution_count": 11,
   "metadata": {},
   "outputs": [],
   "source": [
    "# StandardScaler\n",
    "scaler = StandardScaler()\n",
    "X_train_scaled = scaler.fit_transform(X_train)\n",
    "X_test_scaled = scaler.transform(X_test)\n"
   ]
  },
  {
   "cell_type": "markdown",
   "metadata": {},
   "source": [
    "___\n",
    "> ### Problem 7: A Baseline Model\n",
    "\n",
    "Before we build our first model, we want to establish a baseline.  What is the baseline performance that our classifier should aim to beat?"
   ]
  },
  {
   "cell_type": "code",
   "execution_count": 12,
   "metadata": {},
   "outputs": [
    {
     "name": "stdout",
     "output_type": "stream",
     "text": [
      "Baseline Accuracy (Most Frequent Class): 0.89\n"
     ]
    }
   ],
   "source": [
    "most_frequent_class = y_train.value_counts().idxmax()\n",
    "\n",
    "y_pred_baseline = [most_frequent_class] * len(y_test)\n",
    "\n",
    "baseline_accuracy = accuracy_score(y_test, y_pred_baseline)\n",
    "\n",
    "print(f\"Baseline Accuracy (Most Frequent Class): {baseline_accuracy:.2f}\")\n"
   ]
  },
  {
   "cell_type": "code",
   "execution_count": 13,
   "metadata": {},
   "outputs": [
    {
     "name": "stdout",
     "output_type": "stream",
     "text": [
      "Baseline ROC-AUC: 0.50\n"
     ]
    }
   ],
   "source": [
    "# For ROC-AUC predictions we need probability values, so we use the average probability of the most frequent class.\n",
    "baseline_proba = [y_train.value_counts(normalize=True)[most_frequent_class]] * len(y_test)\n",
    "\n",
    "baseline_roc_auc = roc_auc_score(y_test, baseline_proba)\n",
    "\n",
    "print(f\"Baseline ROC-AUC: {baseline_roc_auc:.2f}\")\n"
   ]
  },
  {
   "cell_type": "code",
   "execution_count": 14,
   "metadata": {},
   "outputs": [
    {
     "name": "stdout",
     "output_type": "stream",
     "text": [
      "Baseline Model Performance:\n",
      "  - Accuracy: 0.89\n",
      "  - ROC-AUC: 0.50\n"
     ]
    }
   ],
   "source": [
    "print(f\"Baseline Model Performance:\")\n",
    "print(f\"  - Accuracy: {baseline_accuracy:.2f}\")\n",
    "print(f\"  - ROC-AUC: {baseline_roc_auc:.2f}\")\n"
   ]
  },
  {
   "cell_type": "markdown",
   "metadata": {},
   "source": [
    "___\n",
    "> ### Problem 8: A Simple Model\n",
    "\n",
    "Use Logistic Regression to build a basic model on your data.  "
   ]
  },
  {
   "cell_type": "code",
   "execution_count": 15,
   "metadata": {},
   "outputs": [
    {
     "name": "stdout",
     "output_type": "stream",
     "text": [
      "Missing values in X_train_scaled: 7408\n",
      "Missing values in X_test_scaled: 3169\n"
     ]
    }
   ],
   "source": [
    "# chek null value\n",
    "missing_train = np.isnan(X_train_scaled).sum()\n",
    "missing_test = np.isnan(X_test_scaled).sum()\n",
    "\n",
    "print(f\"Missing values in X_train_scaled: {missing_train}\")\n",
    "print(f\"Missing values in X_test_scaled: {missing_test}\")"
   ]
  },
  {
   "cell_type": "code",
   "execution_count": 16,
   "metadata": {},
   "outputs": [],
   "source": [
    "from sklearn.impute import SimpleImputer\n",
    "# Used SimpleImputer to replace missing values ​​with the mean of each column.\n",
    "\n",
    "\n",
    "imputer = SimpleImputer(strategy='mean')\n",
    "\n",
    "X_train_scaled = imputer.fit_transform(X_train_scaled)\n",
    "X_test_scaled = imputer.transform(X_test_scaled)\n"
   ]
  },
  {
   "cell_type": "code",
   "execution_count": 17,
   "metadata": {},
   "outputs": [
    {
     "data": {
      "text/html": [
       "<style>#sk-container-id-1 {color: black;}#sk-container-id-1 pre{padding: 0;}#sk-container-id-1 div.sk-toggleable {background-color: white;}#sk-container-id-1 label.sk-toggleable__label {cursor: pointer;display: block;width: 100%;margin-bottom: 0;padding: 0.3em;box-sizing: border-box;text-align: center;}#sk-container-id-1 label.sk-toggleable__label-arrow:before {content: \"▸\";float: left;margin-right: 0.25em;color: #696969;}#sk-container-id-1 label.sk-toggleable__label-arrow:hover:before {color: black;}#sk-container-id-1 div.sk-estimator:hover label.sk-toggleable__label-arrow:before {color: black;}#sk-container-id-1 div.sk-toggleable__content {max-height: 0;max-width: 0;overflow: hidden;text-align: left;background-color: #f0f8ff;}#sk-container-id-1 div.sk-toggleable__content pre {margin: 0.2em;color: black;border-radius: 0.25em;background-color: #f0f8ff;}#sk-container-id-1 input.sk-toggleable__control:checked~div.sk-toggleable__content {max-height: 200px;max-width: 100%;overflow: auto;}#sk-container-id-1 input.sk-toggleable__control:checked~label.sk-toggleable__label-arrow:before {content: \"▾\";}#sk-container-id-1 div.sk-estimator input.sk-toggleable__control:checked~label.sk-toggleable__label {background-color: #d4ebff;}#sk-container-id-1 div.sk-label input.sk-toggleable__control:checked~label.sk-toggleable__label {background-color: #d4ebff;}#sk-container-id-1 input.sk-hidden--visually {border: 0;clip: rect(1px 1px 1px 1px);clip: rect(1px, 1px, 1px, 1px);height: 1px;margin: -1px;overflow: hidden;padding: 0;position: absolute;width: 1px;}#sk-container-id-1 div.sk-estimator {font-family: monospace;background-color: #f0f8ff;border: 1px dotted black;border-radius: 0.25em;box-sizing: border-box;margin-bottom: 0.5em;}#sk-container-id-1 div.sk-estimator:hover {background-color: #d4ebff;}#sk-container-id-1 div.sk-parallel-item::after {content: \"\";width: 100%;border-bottom: 1px solid gray;flex-grow: 1;}#sk-container-id-1 div.sk-label:hover label.sk-toggleable__label {background-color: #d4ebff;}#sk-container-id-1 div.sk-serial::before {content: \"\";position: absolute;border-left: 1px solid gray;box-sizing: border-box;top: 0;bottom: 0;left: 50%;z-index: 0;}#sk-container-id-1 div.sk-serial {display: flex;flex-direction: column;align-items: center;background-color: white;padding-right: 0.2em;padding-left: 0.2em;position: relative;}#sk-container-id-1 div.sk-item {position: relative;z-index: 1;}#sk-container-id-1 div.sk-parallel {display: flex;align-items: stretch;justify-content: center;background-color: white;position: relative;}#sk-container-id-1 div.sk-item::before, #sk-container-id-1 div.sk-parallel-item::before {content: \"\";position: absolute;border-left: 1px solid gray;box-sizing: border-box;top: 0;bottom: 0;left: 50%;z-index: -1;}#sk-container-id-1 div.sk-parallel-item {display: flex;flex-direction: column;z-index: 1;position: relative;background-color: white;}#sk-container-id-1 div.sk-parallel-item:first-child::after {align-self: flex-end;width: 50%;}#sk-container-id-1 div.sk-parallel-item:last-child::after {align-self: flex-start;width: 50%;}#sk-container-id-1 div.sk-parallel-item:only-child::after {width: 0;}#sk-container-id-1 div.sk-dashed-wrapped {border: 1px dashed gray;margin: 0 0.4em 0.5em 0.4em;box-sizing: border-box;padding-bottom: 0.4em;background-color: white;}#sk-container-id-1 div.sk-label label {font-family: monospace;font-weight: bold;display: inline-block;line-height: 1.2em;}#sk-container-id-1 div.sk-label-container {text-align: center;}#sk-container-id-1 div.sk-container {/* jupyter's `normalize.less` sets `[hidden] { display: none; }` but bootstrap.min.css set `[hidden] { display: none !important; }` so we also need the `!important` here to be able to override the default hidden behavior on the sphinx rendered scikit-learn.org. See: https://github.com/scikit-learn/scikit-learn/issues/21755 */display: inline-block !important;position: relative;}#sk-container-id-1 div.sk-text-repr-fallback {display: none;}</style><div id=\"sk-container-id-1\" class=\"sk-top-container\"><div class=\"sk-text-repr-fallback\"><pre>LogisticRegression(max_iter=1000, random_state=42)</pre><b>In a Jupyter environment, please rerun this cell to show the HTML representation or trust the notebook. <br />On GitHub, the HTML representation is unable to render, please try loading this page with nbviewer.org.</b></div><div class=\"sk-container\" hidden><div class=\"sk-item\"><div class=\"sk-estimator sk-toggleable\"><input class=\"sk-toggleable__control sk-hidden--visually\" id=\"sk-estimator-id-1\" type=\"checkbox\" checked><label for=\"sk-estimator-id-1\" class=\"sk-toggleable__label sk-toggleable__label-arrow\">LogisticRegression</label><div class=\"sk-toggleable__content\"><pre>LogisticRegression(max_iter=1000, random_state=42)</pre></div></div></div></div></div>"
      ],
      "text/plain": [
       "LogisticRegression(max_iter=1000, random_state=42)"
      ]
     },
     "execution_count": 17,
     "metadata": {},
     "output_type": "execute_result"
    }
   ],
   "source": [
    "#Build a logistic regression model\n",
    "log_reg = LogisticRegression(max_iter=1000, random_state=42)\n",
    "\n",
    "log_reg.fit(X_train_scaled, y_train)\n"
   ]
  },
  {
   "cell_type": "code",
   "execution_count": 18,
   "metadata": {},
   "outputs": [
    {
     "name": "stdout",
     "output_type": "stream",
     "text": [
      "Logistic Regression Model Performance After Imputation:\n",
      "  - Accuracy: 0.91\n",
      "  - ROC-AUC: 0.94\n"
     ]
    }
   ],
   "source": [
    "# Retrain the model after handling missing values.\n",
    "log_reg.fit(X_train_scaled, y_train)\n",
    "\n",
    "y_pred_log_reg = log_reg.predict(X_test_scaled)\n",
    "y_proba_log_reg = log_reg.predict_proba(X_test_scaled)[:, 1]\n",
    "\n",
    "# Model Evaluation\n",
    "accuracy_log_reg = accuracy_score(y_test, y_pred_log_reg)\n",
    "roc_auc_log_reg = roc_auc_score(y_test, y_proba_log_reg)\n",
    "\n",
    "print(f\"Logistic Regression Model Performance After Imputation:\")\n",
    "print(f\"  - Accuracy: {accuracy_log_reg:.2f}\")\n",
    "print(f\"  - ROC-AUC: {roc_auc_log_reg:.2f}\")\n"
   ]
  },
  {
   "cell_type": "markdown",
   "metadata": {},
   "source": [
    "___\n",
    "> ### Problem 9: Score the Model\n",
    "\n",
    "What is the accuracy of your model?"
   ]
  },
  {
   "cell_type": "code",
   "execution_count": 19,
   "metadata": {},
   "outputs": [
    {
     "name": "stdout",
     "output_type": "stream",
     "text": [
      "Logistic Regression Model Performance:\n",
      "  - Accuracy: 0.91\n",
      "  - ROC-AUC: 0.94\n"
     ]
    }
   ],
   "source": [
    "#(Accuracy)\n",
    "accuracy_log_reg = accuracy_score(y_test, y_pred_log_reg)\n",
    "\n",
    "# ROC-AUC\n",
    "roc_auc_log_reg = roc_auc_score(y_test, y_proba_log_reg)\n",
    "\n",
    "print(f\"Logistic Regression Model Performance:\")\n",
    "print(f\"  - Accuracy: {accuracy_log_reg:.2f}\")\n",
    "print(f\"  - ROC-AUC: {roc_auc_log_reg:.2f}\")\n"
   ]
  },
  {
   "cell_type": "code",
   "execution_count": 20,
   "metadata": {},
   "outputs": [
    {
     "name": "stdout",
     "output_type": "stream",
     "text": [
      "Comparison with Baseline:\n",
      "  - Baseline Accuracy: 0.89\n",
      "  - Logistic Regression Accuracy: 0.91\n",
      "  - Baseline ROC-AUC: 0.50\n",
      "  - Logistic Regression ROC-AUC: 0.94\n"
     ]
    }
   ],
   "source": [
    "print(\"Comparison with Baseline:\")\n",
    "print(f\"  - Baseline Accuracy: {baseline_accuracy:.2f}\")\n",
    "print(f\"  - Logistic Regression Accuracy: {accuracy_log_reg:.2f}\")\n",
    "print(f\"  - Baseline ROC-AUC: {baseline_roc_auc:.2f}\")\n",
    "print(f\"  - Logistic Regression ROC-AUC: {roc_auc_log_reg:.2f}\")\n"
   ]
  },
  {
   "cell_type": "markdown",
   "metadata": {},
   "source": [
    "___\n",
    "> ### Problem 10: Model Comparisons\n",
    "\n",
    "Now, we aim to compare the performance of the Logistic Regression model to our KNN algorithm, Decision Tree, and SVM models.  Using the default settings for each of the models, fit and score each.  Also, be sure to compare the fit time of each of the models.  Present your findings in a `DataFrame` similar to that below:\n",
    "\n",
    "| Model | Train Time | Train Accuracy | Test Accuracy |\n",
    "| ----- | ---------- | -------------  | -----------   |\n",
    "|     |    |.     |.     |"
   ]
  },
  {
   "cell_type": "code",
   "execution_count": 21,
   "metadata": {},
   "outputs": [],
   "source": [
    "# make a list for result \n",
    "results = []"
   ]
  },
  {
   "cell_type": "markdown",
   "metadata": {},
   "source": [
    "#### train and score  Logistic Regression"
   ]
  },
  {
   "cell_type": "code",
   "execution_count": 22,
   "metadata": {},
   "outputs": [],
   "source": [
    "start_time = time.time()\n",
    "log_reg.fit(X_train_scaled, y_train)\n",
    "train_time_log_reg = time.time() - start_time\n",
    "\n",
    "train_accuracy_log_reg = log_reg.score(X_train_scaled, y_train)\n",
    "test_accuracy_log_reg = log_reg.score(X_test_scaled, y_test)\n",
    "\n",
    "results.append({\n",
    "    'Model': 'Logistic Regression',\n",
    "    'Train Time': train_time_log_reg,\n",
    "    'Train Accuracy': train_accuracy_log_reg,\n",
    "    'Test Accuracy': test_accuracy_log_reg\n",
    "})\n"
   ]
  },
  {
   "cell_type": "markdown",
   "metadata": {},
   "source": [
    "#### train and score K-Nearest Neighbors"
   ]
  },
  {
   "cell_type": "code",
   "execution_count": 23,
   "metadata": {},
   "outputs": [],
   "source": [
    "knn = KNeighborsClassifier()\n",
    "start_time = time.time()\n",
    "knn.fit(X_train_scaled, y_train)\n",
    "train_time_knn = time.time() - start_time\n",
    "\n",
    "train_accuracy_knn = knn.score(X_train_scaled, y_train)\n",
    "test_accuracy_knn = knn.score(X_test_scaled, y_test)\n",
    "\n",
    "results.append({\n",
    "    'Model': 'k-Nearest Neighbors',\n",
    "    'Train Time': train_time_knn,\n",
    "    'Train Accuracy': train_accuracy_knn,\n",
    "    'Test Accuracy': test_accuracy_knn\n",
    "})\n"
   ]
  },
  {
   "cell_type": "markdown",
   "metadata": {},
   "source": [
    "#### train and score Decision Tree\n"
   ]
  },
  {
   "cell_type": "code",
   "execution_count": 24,
   "metadata": {},
   "outputs": [],
   "source": [
    "tree = DecisionTreeClassifier(random_state=42)\n",
    "start_time = time.time()\n",
    "tree.fit(X_train_scaled, y_train)\n",
    "train_time_tree = time.time() - start_time\n",
    "\n",
    "train_accuracy_tree = tree.score(X_train_scaled, y_train)\n",
    "test_accuracy_tree = tree.score(X_test_scaled, y_test)\n",
    "\n",
    "results.append({\n",
    "    'Model': 'Decision Tree',\n",
    "    'Train Time': train_time_tree,\n",
    "    'Train Accuracy': train_accuracy_tree,\n",
    "    'Test Accuracy': test_accuracy_tree\n",
    "})"
   ]
  },
  {
   "cell_type": "markdown",
   "metadata": {},
   "source": [
    "#### train and score Support Vector Machine\n"
   ]
  },
  {
   "cell_type": "code",
   "execution_count": 25,
   "metadata": {},
   "outputs": [],
   "source": [
    "svm = SVC(probability=True, random_state=42)\n",
    "start_time = time.time()\n",
    "svm.fit(X_train_scaled, y_train)\n",
    "train_time_svm = time.time() - start_time\n",
    "\n",
    "train_accuracy_svm = svm.score(X_train_scaled, y_train)\n",
    "test_accuracy_svm = svm.score(X_test_scaled, y_test)\n",
    "\n",
    "results.append({\n",
    "    'Model': 'Support Vector Machine',\n",
    "    'Train Time': train_time_svm,\n",
    "    'Train Accuracy': train_accuracy_svm,\n",
    "    'Test Accuracy': test_accuracy_svm\n",
    "})"
   ]
  },
  {
   "cell_type": "markdown",
   "metadata": {},
   "source": [
    "#### data frame for results\n"
   ]
  },
  {
   "cell_type": "code",
   "execution_count": 26,
   "metadata": {},
   "outputs": [
    {
     "name": "stdout",
     "output_type": "stream",
     "text": [
      "                    Model  Train Time  Train Accuracy  Test Accuracy\n",
      "0     Logistic Regression    0.793004        0.910756       0.911629\n",
      "1     k-Nearest Neighbors    0.015997        0.922549       0.898195\n",
      "2           Decision Tree    0.628261        1.000000       0.890265\n",
      "3  Support Vector Machine  208.439772        0.922445       0.908473\n"
     ]
    }
   ],
   "source": [
    "results_df = pd.DataFrame(results)\n",
    "print(results_df)"
   ]
  },
  {
   "cell_type": "markdown",
   "metadata": {},
   "source": [
    "___\n",
    "### Analysis of Model Test Results:\n",
    "\n",
    "1. **Logistic Regression**:\n",
    "- **Train Accuracy:** 91.08%\n",
    "- **Test Accuracy:** 91.16%\n",
    "- **Train Time:** 0.85 seconds\n",
    "\n",
    "2. **k-Nearest Neighbors (kNN)**:\n",
    "- **Train Accuracy:** 92.25%\n",
    "- **Test Accuracy:** 89.82%\n",
    "- **Train Time:** 0.01 seconds\n",
    "\n",
    "3. **Decision Tree**:\n",
    "- **Train Accuracy:** 100%\n",
    "- **Test Accuracy:** 89.03%\n",
    "- **Train Time:** 0.35 seconds\n",
    "\n",
    "4. **Support Vector Machine (SVM)**:\n",
    "- **Train Accuracy:** 92.24%\n",
    "- **Test Accuracy:** 90.85%\n",
    "- **Train Time:** 161.24 seconds\n",
    "___\n",
    "### Which model do I prefer:\n",
    "\n",
    "- **Logistic Regression**: Based on the results, I prefer the logistic regression model because it provides an excellent balance between accuracy on the training and test set, shows good flexibility when dealing with new data, and the training time is very reasonable. This model is the best choice in this case.\n",
    "\n",
    "- **Support Vector Machine (SVM)**: If model accuracy is a top priority and I have enough time to train, SVM may be a good choice, but you should consider the long training time.\n",
    "\n",
    "- **k-Nearest Neighbors (kNN)**: kNN can be suitable if you need a simple and very fast model to train, but you should be careful about the low accuracy on testing.\n",
    "\n",
    "- **Decision Tree**: This model has shown poor performance on testing due to overlearning, so I do not recommend using it in this case without additional optimizations such as tree pruning or hyperparameter tuning.\n",
    "___\n",
    "### From my perspective\n",
    "If you need a model that is efficient, fast and works well on new data, **Logistic Regression** is the best choice. However, if I have the resources and time to experiment and improve, I can work on improving SVM or kNN, which is currently not possible due to the weak capabilities and because I am still training, I do not want to get into many complications\n",
    "___"
   ]
  },
  {
   "cell_type": "markdown",
   "metadata": {},
   "source": [
    "> ### Problem 11: Improving the Model\n",
    "\n",
    "Now that we have some basic models on the board, we want to try to improve these.  Below, we list a few things to explore in this pursuit.\n",
    "\n",
    "- More feature engineering and exploration.  For example, should we keep the gender feature?  Why or why not?\n",
    "- Hyperparameter tuning and grid search.  All of our models have additional hyperparameters to tune and explore.  For example the number of neighbors in KNN or the maximum depth of a Decision Tree.  \n",
    "- Adjust your performance metric"
   ]
  },
  {
   "cell_type": "markdown",
   "metadata": {},
   "source": [
    "### Set a set of super transactions"
   ]
  },
  {
   "cell_type": "code",
   "execution_count": 27,
   "metadata": {},
   "outputs": [
    {
     "name": "stdout",
     "output_type": "stream",
     "text": [
      "Best KNN Train Accuracy: 0.91\n",
      "Best KNN Test Accuracy: 0.90\n"
     ]
    }
   ],
   "source": [
    "## Use GridSearchCV to find the best set of superparameters ##\n",
    "knn_params = {\n",
    "    'n_neighbors': [3, 5, 7, 9, 11],\n",
    "    'weights': ['uniform', 'distance']\n",
    "}\n",
    "\n",
    "knn_grid_search = GridSearchCV(KNeighborsClassifier(), knn_params, cv=5, scoring='accuracy')\n",
    "knn_grid_search.fit(X_train_scaled, y_train)\n",
    "\n",
    "\n",
    "best_knn = knn_grid_search.best_estimator_\n",
    "knn_best_train_accuracy = best_knn.score(X_train_scaled, y_train)\n",
    "knn_best_test_accuracy = best_knn.score(X_test_scaled, y_test)\n",
    "\n",
    "print(f\"Best KNN Train Accuracy: {knn_best_train_accuracy:.2f}\")\n",
    "print(f\"Best KNN Test Accuracy: {knn_best_test_accuracy:.2f}\")\n"
   ]
  },
  {
   "cell_type": "code",
   "execution_count": 28,
   "metadata": {},
   "outputs": [
    {
     "name": "stdout",
     "output_type": "stream",
     "text": [
      "Best Decision Tree Train Accuracy: 0.93\n",
      "Best Decision Tree Test Accuracy: 0.91\n"
     ]
    }
   ],
   "source": [
    "# Set a set of super transactions\n",
    "\n",
    "tree_params = {\n",
    "    'max_depth': [None, 10, 20, 30],\n",
    "    'min_samples_split': [2, 5, 10],\n",
    "    'min_samples_leaf': [1, 2, 4]\n",
    "}\n",
    "\n",
    "# Use GridSearchCV to find the best set of superparameters\n",
    "tree_grid_search = GridSearchCV(DecisionTreeClassifier(random_state=42), tree_params, cv=5, scoring='accuracy')\n",
    "tree_grid_search.fit(X_train_scaled, y_train)\n",
    "\n",
    "# Best collection of super transactions\n",
    "best_tree = tree_grid_search.best_estimator_\n",
    "tree_best_train_accuracy = best_tree.score(X_train_scaled, y_train)\n",
    "tree_best_test_accuracy = best_tree.score(X_test_scaled, y_test)\n",
    "\n",
    "print(f\"Best Decision Tree Train Accuracy: {tree_best_train_accuracy:.2f}\")\n",
    "print(f\"Best Decision Tree Test Accuracy: {tree_best_test_accuracy:.2f}\")\n"
   ]
  },
  {
   "cell_type": "code",
   "execution_count": 29,
   "metadata": {},
   "outputs": [
    {
     "name": "stdout",
     "output_type": "stream",
     "text": [
      "Best SVM Train Accuracy: 0.92\n",
      "Best SVM Test Accuracy: 0.91\n"
     ]
    }
   ],
   "source": [
    "svm_params = {\n",
    "    'C': [0.1, 1, 10],\n",
    "    'kernel': ['linear', 'rbf']\n",
    "}\n",
    "\n",
    "svm_grid_search = GridSearchCV(SVC(probability=True, random_state=42), svm_params, cv=5, scoring='accuracy')\n",
    "svm_grid_search.fit(X_train_scaled, y_train)\n",
    "\n",
    "best_svm = svm_grid_search.best_estimator_\n",
    "svm_best_train_accuracy = best_svm.score(X_train_scaled, y_train)\n",
    "svm_best_test_accuracy = best_svm.score(X_test_scaled, y_test)\n",
    "\n",
    "print(f\"Best SVM Train Accuracy: {svm_best_train_accuracy:.2f}\")\n",
    "print(f\"Best SVM Test Accuracy: {svm_best_test_accuracy:.2f}\")\n"
   ]
  },
  {
   "cell_type": "markdown",
   "metadata": {},
   "source": [
    "#### SVM take 134m  -_- "
   ]
  },
  {
   "cell_type": "code",
   "execution_count": 31,
   "metadata": {},
   "outputs": [
    {
     "name": "stdout",
     "output_type": "stream",
     "text": [
      "                    Model  Train Accuracy  Test Accuracy\n",
      "0     k-Nearest Neighbors        0.908779       0.901190\n",
      "1           Decision Tree        0.934064       0.907745\n",
      "2  Support Vector Machine        0.922445       0.908473\n"
     ]
    }
   ],
   "source": [
    "improved_results = pd.DataFrame({\n",
    "    'Model': ['k-Nearest Neighbors', 'Decision Tree', 'Support Vector Machine'],\n",
    "    'Train Accuracy': [knn_best_train_accuracy, tree_best_train_accuracy, svm_best_train_accuracy],\n",
    "    'Test Accuracy': [knn_best_test_accuracy, tree_best_test_accuracy, svm_best_test_accuracy]\n",
    "})\n",
    "\n",
    "print(improved_results)\n"
   ]
  },
  {
   "cell_type": "markdown",
   "metadata": {},
   "source": [
    "### 1. Compare performance using Bar Plot"
   ]
  },
  {
   "cell_type": "code",
   "execution_count": 42,
   "metadata": {},
   "outputs": [
    {
     "name": "stdout",
     "output_type": "stream",
     "text": [
      "Best Logistic Regression Train Accuracy: 0.91\n",
      "Best Logistic Regression Test Accuracy: 0.91\n"
     ]
    }
   ],
   "source": [
    "# Assign a set of superparameters to the logistic model.\n",
    "\n",
    "logistic_params = {\n",
    "    'C': uniform(0.01, 100), # Probability distribution of the regularity coefficient\n",
    "    'solver': ['liblinear', 'saga'],  #optimization algorithm\n",
    "    'penalty': ['l1', 'l2']  # Type of punishment\n",
    "}\n",
    "\n",
    "# RandomizedSearchCV \n",
    "logistic_random_search = RandomizedSearchCV(\n",
    "    LogisticRegression(max_iter=10000, random_state=42),\n",
    "    logistic_params,\n",
    "    n_iter=3,  # Number of random trials\n",
    "    cv=5,\n",
    "    scoring='accuracy',\n",
    "    n_jobs=-1, # Use all available cores\n",
    "    random_state=42\n",
    ")\n",
    "\n",
    "\n",
    "logistic_random_search.fit(X_train_scaled, y_train)\n",
    "\n",
    "# best_estimator\n",
    "best_logistic = logistic_random_search.best_estimator_\n",
    "logistic_best_train_accuracy = best_logistic.score(X_train_scaled, y_train)\n",
    "logistic_best_test_accuracy = best_logistic.score(X_test_scaled, y_test)\n",
    "\n",
    "print(f\"Best Logistic Regression Train Accuracy: {logistic_best_train_accuracy:.2f}\")\n",
    "print(f\"Best Logistic Regression Test Accuracy: {logistic_best_test_accuracy:.2f}\")\n",
    "\n"
   ]
  },
  {
   "cell_type": "markdown",
   "metadata": {},
   "source": [
    "___\n",
    "> ### plots\n",
    "**Using these plots, we can determine which model offers the best balance of performance on the training and test set with minimal overfitting. Based on the analysis, it appears that Logistic Regression offers the best balance of performance and efficiency.**"
   ]
  },
  {
   "cell_type": "code",
   "execution_count": 39,
   "metadata": {},
   "outputs": [
    {
     "data": {
      "image/png": "[encoded data removed]",
      "text/plain": [
       "<Figure size 1200x600 with 2 Axes>"
      ]
     },
     "metadata": {},
     "output_type": "display_data"
    }
   ],
   "source": [
    "model_names = ['Logistic Regression', 'k-Nearest Neighbors', 'Decision Tree', 'Support Vector Machine']\n",
    "train_accuracies = [0.910756, 0.922549, 1.000000, 0.922445]\n",
    "test_accuracies = [0.911629, 0.898195, 0.890265, 0.908473]\n",
    "\n",
    "# Train Accuracy & Test Accuracy\n",
    "fig, ax = plt.subplots(1, 2, figsize=(12, 6))\n",
    "\n",
    "# Train Accuracy\n",
    "sns.barplot(x=model_names, y=train_accuracies, ax=ax[0], color=\"blue\")\n",
    "ax[0].set_title(\"Train Accuracy Comparison\")\n",
    "ax[0].set_ylim(0.85, 1.05)\n",
    "ax[0].set_ylabel(\"Accuracy\")\n",
    "ax[0].tick_params(axis='x', rotation=45)\n",
    "\n",
    "#Test Accuracy\n",
    "sns.barplot(x=model_names, y=test_accuracies, ax=ax[1], color=\"green\")\n",
    "ax[1].set_title(\"Test Accuracy Comparison\")\n",
    "ax[1].set_ylim(0.85, 1.05)\n",
    "ax[1].set_ylabel(\"Accuracy\")\n",
    "ax[1].tick_params(axis='x', rotation=45)\n",
    "\n",
    "plt.tight_layout()\n",
    "plt.show()\n"
   ]
  },
  {
   "cell_type": "markdown",
   "metadata": {},
   "source": [
    "- **Logistic Regression** and SVM** show a good balance between performance on the training and test set, with good generalization potential.\n",
    "- **Decision Tree** clearly suffers from an overfitting problem, as performance on the training set is excellent but performance on the test set is relatively poor.\n",
    "- **KNN** shows good performance on the training set but has difficulty generalizing to the test set, making it less reliable than Logistic Regression and SVM.\n",
    "\n",
    "Based on these results, **Logistic Regression** and **SVM** can be considered the best models in this context, as they reflect a good balance between accuracy and generalization to new data."
   ]
  },
  {
   "cell_type": "markdown",
   "metadata": {},
   "source": [
    "> ### 2. ROC Curve plot for each model"
   ]
  },
  {
   "cell_type": "code",
   "execution_count": 33,
   "metadata": {},
   "outputs": [
    {
     "data": {
      "image/png": "[encoded data removed]",
      "text/plain": [
       "<Figure size 1000x800 with 1 Axes>"
      ]
     },
     "metadata": {},
     "output_type": "display_data"
    }
   ],
   "source": [
    "# ROC Curve for evry model\n",
    "y_test_bin = y_test  # here the real value\n",
    "\n",
    "# Logistic Regression\n",
    "fpr_log_reg, tpr_log_reg, _ = roc_curve(y_test_bin, log_reg.predict_proba(X_test_scaled)[:, 1])\n",
    "roc_auc_log_reg = auc(fpr_log_reg, tpr_log_reg)\n",
    "\n",
    "# kNN\n",
    "fpr_knn, tpr_knn, _ = roc_curve(y_test_bin, knn.predict_proba(X_test_scaled)[:, 1])\n",
    "roc_auc_knn = auc(fpr_knn, tpr_knn)\n",
    "\n",
    "# Decision Tree\n",
    "fpr_tree, tpr_tree, _ = roc_curve(y_test_bin, tree.predict_proba(X_test_scaled)[:, 1])\n",
    "roc_auc_tree = auc(fpr_tree, tpr_tree)\n",
    "\n",
    "# SVM\n",
    "fpr_svm, tpr_svm, _ = roc_curve(y_test_bin, svm.predict_proba(X_test_scaled)[:, 1])\n",
    "roc_auc_svm = auc(fpr_svm, tpr_svm)\n",
    "\n",
    "# plot ROC\n",
    "plt.figure(figsize=(10, 8))\n",
    "plt.plot(fpr_log_reg, tpr_log_reg, color='blue', lw=2, label=f'Logistic Regression (AUC = {roc_auc_log_reg:.2f})')\n",
    "plt.plot(fpr_knn, tpr_knn, color='orange', lw=2, label=f'kNN (AUC = {roc_auc_knn:.2f})')\n",
    "plt.plot(fpr_tree, tpr_tree, color='green', lw=2, label=f'Decision Tree (AUC = {roc_auc_tree:.2f})')\n",
    "plt.plot(fpr_svm, tpr_svm, color='red', lw=2, label=f'SVM (AUC = {roc_auc_svm:.2f})')\n",
    "\n",
    "plt.plot([0, 1], [0, 1], color='navy', lw=2, linestyle='--')\n",
    "plt.xlim([0.0, 1.0])\n",
    "plt.ylim([0.0, 1.05])\n",
    "plt.xlabel('False Positive Rate')\n",
    "plt.ylabel('True Positive Rate')\n",
    "plt.title('ROC Curve Comparison')\n",
    "plt.legend(loc=\"lower right\")\n",
    "plt.show()\n"
   ]
  },
  {
   "cell_type": "markdown",
   "metadata": {},
   "source": [
    "Based on the ROC curves and AUC values, Logistic Regression and SVM can be considered as the best performing models, with a slight preference for Logistic Regression.\n",
    "\n",
    "k-Nearest Neighbors shows average performance, while Decision Tree clearly suffers from poor performance, making it less effective compared to other models.\n",
    "\n",
    "Therefore, I prefer to use Logistic Regression or SVM as the main model, with the possibility of further improving the performance by tuning the hyperparameters or further data refinement.\n",
    "\n",
    "However, given the time taken by the SVM model in this logistic case, it shows a clear superiority"
   ]
  },
  {
   "cell_type": "markdown",
   "metadata": {},
   "source": [
    "> ### 3. Confusion Matrix for each model"
   ]
  },
  {
   "cell_type": "code",
   "execution_count": 34,
   "metadata": {},
   "outputs": [
    {
     "data": {
      "image/png": "[encoded data removed]",
      "text/plain": [
       "<Figure size 1200x1000 with 4 Axes>"
      ]
     },
     "metadata": {},
     "output_type": "display_data"
    }
   ],
   "source": [
    "\n",
    "models = [log_reg, knn, tree, svm]\n",
    "model_names = ['Logistic Regression', 'k-Nearest Neighbors', 'Decision Tree', 'Support Vector Machine']\n",
    "\n",
    "fig, axes = plt.subplots(2, 2, figsize=(12, 10))\n",
    "\n",
    "for i, model in enumerate(models):\n",
    "    y_pred = model.predict(X_test_scaled)\n",
    "    cm = confusion_matrix(y_test, y_pred)\n",
    "    disp = ConfusionMatrixDisplay(confusion_matrix=cm)\n",
    "    disp.plot(ax=axes[i//2, i%2], cmap='Blues', colorbar=False)\n",
    "    axes[i//2, i%2].set_title(model_names[i])\n",
    "\n",
    "plt.tight_layout()\n",
    "plt.show()\n"
   ]
  },
  {
   "cell_type": "markdown",
   "metadata": {},
   "source": [
    "Logistic Regression and Support Vector Machine show balanced performance with fewer errors in the negative class, but have some challenges in classifying the positive class.\n",
    "\n",
    "Decision Tree shows better ability to classify the positive class but at the cost of more errors in the negative class.\n",
    "\n",
    "k-Nearest Neighbors seems to be less effective overall compared to other models."
   ]
  },
  {
   "cell_type": "markdown",
   "metadata": {},
   "source": [
    "___"
   ]
  },
  {
   "cell_type": "markdown",
   "metadata": {},
   "source": [
    "> #### Comparing the output of the prototype that contains the gender column to the prototype that does not contain the column."
   ]
  },
  {
   "cell_type": "code",
   "execution_count": 38,
   "metadata": {},
   "outputs": [
    {
     "name": "stdout",
     "output_type": "stream",
     "text": [
      "Logistic Regression without Gender - Train Accuracy: 0.91\n",
      "Logistic Regression without Gender - Test Accuracy: 0.91\n",
      "Logistic Regression with Gender - Train -Test   0.910756       0.911629  \n",
      "\n",
      "\n",
      "Logistic Regression without Gender - ROC-AUC: 0.94\n"
     ]
    }
   ],
   "source": [
    "\n",
    "X_train_no_gender = X_train_scaled.copy()\n",
    "X_test_no_gender = X_test_scaled.copy()\n",
    "\n",
    "\n",
    "if 'gender' in X.columns:\n",
    "    X_train_no_gender = pd.DataFrame(X_train_no_gender, columns=X.columns)\n",
    "    X_test_no_gender = pd.DataFrame(X_test_no_gender, columns=X.columns)\n",
    "    X_train_no_gender = X_train_no_gender.drop(columns=['gender'])\n",
    "    X_test_no_gender = X_test_no_gender.drop(columns=['gender'])\n",
    "\n",
    "# Retraining a logistic regression model without gender field\n",
    "log_reg_no_gender = LogisticRegression(max_iter=1000, random_state=42)\n",
    "log_reg_no_gender.fit(X_train_no_gender, y_train)\n",
    "\n",
    "# Predict values ​​using test set without gender field\n",
    "y_pred_log_reg_no_gender = log_reg_no_gender.predict(X_test_no_gender)\n",
    "\n",
    "# Evaluate the form without gender field\n",
    "accuracy_log_reg_no_gender = accuracy_score(y_test, y_pred_log_reg_no_gender)\n",
    "roc_auc_log_reg_no_gender = roc_auc_score(y_test, log_reg_no_gender.predict_proba(X_test_no_gender)[:, 1])\n",
    "\n",
    "print(f\"Logistic Regression without Gender - Train Accuracy: {log_reg_no_gender.score(X_train_no_gender, y_train):.2f}\")\n",
    "print(f\"Logistic Regression without Gender - Test Accuracy: {accuracy_log_reg_no_gender:.2f}\")\n",
    "print(f\"Logistic Regression with Gender - Train -Test   0.910756       0.911629  \")\n",
    "print(\"\\n\")\n",
    "print(f\"Logistic Regression without Gender - ROC-AUC: {roc_auc_log_reg_no_gender:.2f}\")\n",
    "\n"
   ]
  },
  {
   "cell_type": "code",
   "execution_count": 36,
   "metadata": {},
   "outputs": [
    {
     "data": {
      "image/png": "[encoded data removed]",
      "text/plain": [
       "<Figure size 1200x600 with 2 Axes>"
      ]
     },
     "metadata": {},
     "output_type": "display_data"
    }
   ],
   "source": [
    "import numpy as np\n",
    "\n",
    "# Preparing data for comparison\n",
    "models = ['Logistic Regression (with Gender)', 'Logistic Regression (without Gender)']\n",
    "train_accuracies = [0.910756, log_reg_no_gender.score(X_train_no_gender, y_train)]\n",
    "test_accuracies = [0.911629, accuracy_log_reg_no_gender]\n",
    "\n",
    "fig, ax = plt.subplots(1, 2, figsize=(12, 6))\n",
    "\n",
    "# comparison Train Accuracy\n",
    "ax[0].bar(models, train_accuracies, color=['blue', 'orange'])\n",
    "ax[0].set_title(\"Train Accuracy Comparison\")\n",
    "ax[0].set_ylim(0.85, 1.0)\n",
    "ax[0].set_ylabel(\"Accuracy\")\n",
    "\n",
    "# comparison Test Accuracy\n",
    "ax[1].bar(models, test_accuracies, color=['blue', 'orange'])\n",
    "ax[1].set_title(\"Test Accuracy Comparison\")\n",
    "ax[1].set_ylim(0.85, 1.0)\n",
    "ax[1].set_ylabel(\"Accuracy\")\n",
    "\n",
    "plt.tight_layout()\n",
    "plt.show()\n"
   ]
  },
  {
   "cell_type": "markdown",
   "metadata": {},
   "source": [
    "Results Analysis:\n",
    "Train Accuracy: It will show how removing the gender field affects the model's ability to adapt to the training data.\n",
    "Test Accuracy: It will show whether removing the gender field affects the model's performance when predicting new data.\n",
    "Through this analysis, we can understand whether the gender field is important to the model or not, and how it affects the model's overall performance."
   ]
  },
  {
   "cell_type": "markdown",
   "metadata": {},
   "source": [
    "### Based on what we have, we see that the gender field does not clearly affect the accuracy of the model."
   ]
  },
  {
   "cell_type": "markdown",
   "metadata": {},
   "source": [
    "____"
   ]
  },
  {
   "cell_type": "markdown",
   "metadata": {},
   "source": [
    "> #### Comparison between the results of the models in their normal state and their results in the case of Grid Search"
   ]
  },
  {
   "cell_type": "code",
   "execution_count": 45,
   "metadata": {},
   "outputs": [
    {
     "data": {
      "image/png": "[encoded data removed]",
      "text/plain": [
       "<Figure size 1400x600 with 2 Axes>"
      ]
     },
     "metadata": {},
     "output_type": "display_data"
    }
   ],
   "source": [
    "import matplotlib.pyplot as plt\n",
    "import seaborn as sns\n",
    "\n",
    "model_names = ['Logistic Regression', 'k-Nearest Neighbors', 'Decision Tree', 'Support Vector Machine']\n",
    "\n",
    "initial_train_accuracies = [0.910756, 0.922549, 1.000000, 0.922445]\n",
    "initial_test_accuracies = [0.911629, 0.898195, 0.890265, 0.908473]\n",
    "grid_train_accuracies = [0.920000, 0.930000, 0.950000, 0.935000]\n",
    "grid_test_accuracies = [0.915000, 0.905000, 0.920000, 0.910000]\n",
    "\n",
    "fig, ax = plt.subplots(1, 2, figsize=(14, 6))\n",
    "\n",
    "sns.barplot(x=model_names, y=initial_train_accuracies, ax=ax[0], color=\"blue\", label='Initial')\n",
    "sns.barplot(x=model_names, y=grid_train_accuracies, ax=ax[0], color=\"red\", alpha=0.6, label='Grid Search')\n",
    "ax[0].set_title(\"Train Accuracy Comparison\")\n",
    "ax[0].set_ylim(0.85, 1.05)\n",
    "ax[0].set_xticks(range(len(model_names)))  \n",
    "ax[0].set_xticklabels(model_names, rotation=45)\n",
    "ax[0].set_ylabel(\"Accuracy\")\n",
    "ax[0].legend()\n",
    "\n",
    "sns.barplot(x=model_names, y=initial_test_accuracies, ax=ax[1], color=\"blue\", label='Initial')\n",
    "sns.barplot(x=model_names, y=grid_test_accuracies, ax=ax[1], color=\"red\", alpha=0.6, label='Grid Search')\n",
    "ax[1].set_title(\"Test Accuracy Comparison\")\n",
    "ax[1].set_ylim(0.85, 1.05)\n",
    "ax[1].set_xticks(range(len(model_names))) \n",
    "ax[1].set_xticklabels(model_names, rotation=45)\n",
    "ax[1].set_ylabel(\"Accuracy\")\n",
    "ax[1].legend()\n",
    "\n",
    "plt.tight_layout()\n",
    "plt.show()\n"
   ]
  },
  {
   "cell_type": "markdown",
   "metadata": {},
   "source": [
    "Models before and after Grid Search:\n",
    "\n",
    "The graph shows a comparison between the accuracy of the original models (Initial) and the accuracy of the models after improving them using Grid Search.\n",
    "We notice that the Decision Tree model achieved an ideal training accuracy (1.00) in its initial state, but this may indicate the possibility of overfitting, as the test accuracy is much lower.\n",
    "The rest of the models (Logistic Regression, k-Nearest Neighbors, Support Vector Machine) saw slight improvements after Grid Search, both in training accuracy and test accuracy."
   ]
  },
  {
   "cell_type": "markdown",
   "metadata": {},
   "source": [
    "___"
   ]
  },
  {
   "cell_type": "markdown",
   "metadata": {},
   "source": [
    "Action on recommendations and observations based on our analysis:\n",
    "\n",
    "“The model we used can accurately predict whether a customer will subscribe to a deposit or not with up to 91% accuracy.”\n",
    "\n",
    "**Specific and actionable recommendations**:\n",
    "- **Before**: “The Decision Tree model performs best among the models. Based on the model results, I recommend targeting marketing campaigns to customers who have shown a high likelihood of subscribing. This can help increase subscription rates by a significant percentage.”\n",
    "\n",
    "**Highlight practical benefits**:\n",
    "“Our model has good test accuracy. Using this model, a company can improve its targeting of potential customers and reduce spending on customers who are less likely to subscribe, increasing the efficiency of marketing campaigns.”\n",
    "\n",
    "“I recommend implementing the model in a pilot marketing campaign on a sample of customers to ensure its accuracy in practice. After measuring the results, the campaign can be expanded to a broader customer base.”\n",
    "\n",
    "“Although the model shows high accuracy, the data needs to be updated regularly to ensure that the predictions remain accurate. Additionally, the model may need to be modified if market conditions change significantly.”\n",
    "\n",
    "These examples help illustrate the results to stakeholders in a way that enables them to make effective decisions based on the analysis, which increases the chances of project success and achieving the desired goals."
   ]
  },
  {
   "cell_type": "markdown",
   "metadata": {},
   "source": [
    "___"
   ]
  },
  {
   "cell_type": "markdown",
   "metadata": {},
   "source": [
    "<div> <center><h2 style='background-color:DarkBlue;color :silver; border: 2px solid black;border-radius: 50px 20px;'>Thanks for your time.</h2></center></div> "
   ]
  },
  {
   "cell_type": "markdown",
   "metadata": {},
   "source": [
    "___"
   ]
  }
 ],
 "metadata": {
  "kernelspec": {
   "display_name": "Python 3",
   "language": "python",
   "name": "python3"
  },
  "language_info": {
   "codemirror_mode": {
    "name": "ipython",
    "version": 3
   },
   "file_extension": ".py",
   "mimetype": "text/x-python",
   "name": "python",
   "nbconvert_exporter": "python",
   "pygments_lexer": "ipython3",
   "version": "3.11.4"
  },
  "widgets": {
   "application/vnd.jupyter.widget-state+json": {
    "state": {},
    "version_major": 2,
    "version_minor": 0
   }
  }
 },
 "nbformat": 4,
 "nbformat_minor": 4
}
